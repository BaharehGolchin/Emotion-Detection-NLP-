{
 "cells": [
  {
   "cell_type": "code",
   "execution_count": 24,
   "metadata": {},
   "outputs": [],
   "source": [
    "import csv"
   ]
  },
  {
   "cell_type": "code",
   "execution_count": 25,
   "metadata": {},
   "outputs": [],
   "source": [
    "def read_csv(file, lst, cats):\n",
    "    with open(file, newline='') as f:\n",
    "        reader = csv.reader(f)\n",
    "        for i,row in enumerate(reader):\n",
    "            cat = row[1]\n",
    "            lst.append(row[0])\n",
    "            cats.append(int(row[1]))"
   ]
  },
  {
   "cell_type": "code",
   "execution_count": 26,
   "metadata": {},
   "outputs": [],
   "source": [
    "data = []\n",
    "cats = []\n",
    "read_csv(\"data.csv\", data, cats)"
   ]
  },
  {
   "cell_type": "code",
   "execution_count": 30,
   "metadata": {},
   "outputs": [],
   "source": [
    "dataWriter = csv.writer(open('data_merged.csv', 'w'), delimiter=',',lineterminator=\"\\n\")\n",
    "for n,point in enumerate(data):\n",
    "    category = cats[n]\n",
    "    \"\"\"\n",
    "    is_happy = category == 3 or category == 5 or category == 6 or category == 7 or category == 9 or category == 11 \n",
    "    is_neutral = category == 0 or category == 1 or  category == 10\n",
    "    is_sad = category == 2 or category == 4\n",
    "    if is_happy:\n",
    "        dataWriter.writerow([point, 1])\n",
    "    elif is_neutral:\n",
    "        dataWriter.writerow([point, 0])\n",
    "    elif is_sad:\n",
    "        dataWriter.writerow([point, 2])\n",
    "    elif category == 8:\n",
    "        dataWriter.writerow([point, 3])\n",
    "    elif category == 12:\n",
    "        dataWriter.writerow([point, 4])\n",
    "    else:\n",
    "        print(point,n)\n",
    "    \"\"\"   \n",
    "    \n",
    "    Happy_Active = category == 1 or category == 2 or category == 3 or category == 4 or category == 5 or category == 6 or category == 7 or category == 8 or category == 9 or category == 10 or category == 11 or category == 12 or category == 13 or category == 14 or category == 15 or category == 16 or category == 17 or category == 18 or category == 19\n",
    "    Happy_Inactive = category == 20 or category == 21 or category == 22 or category == 23 or category == 24 or category == 25 or category == 26 or category == 27 or category == 28 or category == 29 or category == 30 or category == 31 or category == 32 or category == 33 or category == 34 or category == 35 or category == 36 or category == 37 or category == 38 or category == 39\n",
    "    Unhappy_Active = category == 40 or category == 41 or category == 42 or category == 43 or category == 44 or category == 45 or category == 46 or category == 47 or category == 48 or category == 49 or category == 50 or category == 51 or category == 52 or category == 53 or category == 54 or category == 55 or category == 56 or category == 57 or category == 58 or category == 59\n",
    "    Unhappy_Inactive = category == 60 or category == 61 or category == 62 category == 63 or category == 64 or category == 65 or category == 66 or category == 67 or category == 68 or category == 69 or category == 70 or category == 71 or category == 72 or category == 73 or category == 74 or category == 75 or category == 76 or category == 77 or category == 78 or category == 79 or category == 80\n",
    "     if Happy_Active:\n",
    "        dataWriter.writerow([point, 1])\n",
    "    elif Happy_Inactive:\n",
    "        dataWriter.writerow([point, 2])\n",
    "    elif Unhappy_Active:\n",
    "        dataWriter.writerow([point, 3])\n",
    "    elif Unhappy_Inactive:\n",
    "        dataWriter.writerow([point, 4])\n",
    "    else:\n",
    "        print(point,n)"
   ]
  },
  {
   "cell_type": "code",
   "execution_count": 31,
   "metadata": {},
   "outputs": [],
   "source": [
    "count = 0\n",
    "with open('data_merged.csv') as csvfile:\n",
    "    readCSV = csv.reader(csvfile, delimiter=',')\n",
    "    for row in readCSV:\n",
    "        count+=1"
   ]
  },
  {
   "cell_type": "code",
   "execution_count": 32,
   "metadata": {},
   "outputs": [
    {
     "data": {
      "text/plain": [
       "45309"
      ]
     },
     "execution_count": 32,
     "metadata": {},
     "output_type": "execute_result"
    }
   ],
   "source": [
    "count"
   ]
  },
  {
   "cell_type": "code",
   "execution_count": null,
   "metadata": {},
   "outputs": [],
   "source": []
  }
 ],
 "metadata": {
  "kernelspec": {
   "display_name": "Python 3",
   "language": "python",
   "name": "python3"
  },
  "language_info": {
   "codemirror_mode": {
    "name": "ipython",
    "version": 3
   },
   "file_extension": ".py",
   "mimetype": "text/x-python",
   "name": "python",
   "nbconvert_exporter": "python",
   "pygments_lexer": "ipython3",
   "version": "3.6.5"
  }
 },
 "nbformat": 4,
 "nbformat_minor": 2
}
